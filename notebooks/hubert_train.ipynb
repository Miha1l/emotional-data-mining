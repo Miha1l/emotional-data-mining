{
 "cells": [
  {
   "cell_type": "markdown",
   "id": "82a465a2-13b5-4984-8243-3c1f004dbe0f",
   "metadata": {},
   "source": [
    "# Обучение модели HuBERT для задачи распознавания эмоций в речи"
   ]
  },
  {
   "cell_type": "markdown",
   "id": "86755141-8da7-45bc-9fbd-a6b14ce2edb1",
   "metadata": {},
   "source": [
    "## 1. Загрузка датасета"
   ]
  },
  {
   "cell_type": "code",
   "execution_count": 4,
   "id": "a8cb950e-99fc-45ca-a676-52fe41b2c539",
   "metadata": {},
   "outputs": [],
   "source": [
    "from datasets import load_dataset\n",
    "\n",
    "ds = load_dataset(\"csv\", data_files=\"../data/crowd_train_100.csv\")"
   ]
  },
  {
   "cell_type": "code",
   "execution_count": 66,
   "id": "d4c22c0a-44c6-4c71-ba18-16d6cd66455a",
   "metadata": {},
   "outputs": [
    {
     "data": {
      "text/plain": [
       "DatasetDict({\n",
       "    train: Dataset({\n",
       "        features: ['id', 'audio_path', 'features_path', 'emotion', 'label'],\n",
       "        num_rows: 400\n",
       "    })\n",
       "})"
      ]
     },
     "execution_count": 66,
     "metadata": {},
     "output_type": "execute_result"
    }
   ],
   "source": [
    "ds"
   ]
  },
  {
   "cell_type": "code",
   "execution_count": 2,
   "id": "2ee57306-5910-4590-a0b8-f34aaf6c9788",
   "metadata": {},
   "outputs": [],
   "source": [
    "from transformers import (\n",
    "    HubertForSequenceClassification,\n",
    "    AutoConfig,\n",
    "    Trainer,\n",
    "    TrainingArguments,\n",
    "    Wav2Vec2FeatureExtractor,\n",
    ")\n",
    "\n",
    "import librosa\n",
    "import numpy as np"
   ]
  },
  {
   "cell_type": "code",
   "execution_count": 43,
   "id": "80dac4a3-6829-49b0-becd-4fd3fe63e098",
   "metadata": {},
   "outputs": [],
   "source": [
    "model_id = \"facebook/hubert-base-ls960\"\n",
    "# model_id = \"facebook/hubert-large-ll60k\"\n",
    "# model_id = \"facebook/hubert-large-ls960-ft\"\n",
    "# model_id = \"facebook/hubert-xlarge-ll60k\""
   ]
  },
  {
   "cell_type": "code",
   "execution_count": 44,
   "id": "096f30bd-7013-49f0-97b6-cec165fab044",
   "metadata": {},
   "outputs": [
    {
     "name": "stderr",
     "output_type": "stream",
     "text": [
      "Some weights of HubertForSequenceClassification were not initialized from the model checkpoint at facebook/hubert-base-ls960 and are newly initialized: ['classifier.bias', 'classifier.weight', 'encoder.pos_conv_embed.conv.parametrizations.weight.original0', 'encoder.pos_conv_embed.conv.parametrizations.weight.original1', 'projector.bias', 'projector.weight']\n",
      "You should probably TRAIN this model on a down-stream task to be able to use it for predictions and inference.\n"
     ]
    }
   ],
   "source": [
    "NUM_LABELS = 4\n",
    "\n",
    "feature_extractor = Wav2Vec2FeatureExtractor.from_pretrained(model_id)\n",
    "config = AutoConfig.from_pretrained(model_id, num_labels=NUM_LABELS)\n",
    "model = HubertForSequenceClassification.from_pretrained(\n",
    "    model_id,\n",
    "    config=config,\n",
    "    ignore_mismatched_sizes=True\n",
    ")"
   ]
  },
  {
   "cell_type": "code",
   "execution_count": 45,
   "id": "3263ec33-dbea-4454-ba0d-9e7bbbf41511",
   "metadata": {},
   "outputs": [],
   "source": [
    "# Заморозка всех слоев\n",
    "for param in model.parameters():\n",
    "    param.requires_grad = False\n",
    "\n",
    "# model.freeze_feature_extractor() # Заморозка только feature_extractor части"
   ]
  },
  {
   "cell_type": "code",
   "execution_count": 42,
   "id": "1dbd8ef4-60e2-4380-92fb-296a4f2b90d0",
   "metadata": {},
   "outputs": [
    {
     "name": "stdout",
     "output_type": "stream",
     "text": [
      "215\n"
     ]
    }
   ],
   "source": [
    "print(len(list(model.parameters())))"
   ]
  },
  {
   "cell_type": "code",
   "execution_count": 40,
   "id": "047b72f6-398c-4877-a60e-c0ed1978c0a5",
   "metadata": {},
   "outputs": [
    {
     "name": "stdout",
     "output_type": "stream",
     "text": [
      "hubert.masked_spec_embed\n",
      "hubert.feature_extractor.conv_layers.0.conv.weight\n",
      "hubert.feature_extractor.conv_layers.0.layer_norm.weight\n",
      "hubert.feature_extractor.conv_layers.0.layer_norm.bias\n",
      "hubert.feature_extractor.conv_layers.1.conv.weight\n",
      "hubert.feature_extractor.conv_layers.2.conv.weight\n",
      "hubert.feature_extractor.conv_layers.3.conv.weight\n",
      "hubert.feature_extractor.conv_layers.4.conv.weight\n",
      "hubert.feature_extractor.conv_layers.5.conv.weight\n",
      "hubert.feature_extractor.conv_layers.6.conv.weight\n",
      "hubert.feature_projection.layer_norm.weight\n",
      "hubert.feature_projection.layer_norm.bias\n",
      "hubert.feature_projection.projection.weight\n",
      "hubert.feature_projection.projection.bias\n",
      "hubert.encoder.pos_conv_embed.conv.bias\n",
      "hubert.encoder.pos_conv_embed.conv.parametrizations.weight.original0\n",
      "hubert.encoder.pos_conv_embed.conv.parametrizations.weight.original1\n",
      "hubert.encoder.layer_norm.weight\n",
      "hubert.encoder.layer_norm.bias\n",
      "hubert.encoder.layers.0.attention.k_proj.weight\n",
      "hubert.encoder.layers.0.attention.k_proj.bias\n",
      "hubert.encoder.layers.0.attention.v_proj.weight\n",
      "hubert.encoder.layers.0.attention.v_proj.bias\n",
      "hubert.encoder.layers.0.attention.q_proj.weight\n",
      "hubert.encoder.layers.0.attention.q_proj.bias\n",
      "hubert.encoder.layers.0.attention.out_proj.weight\n",
      "hubert.encoder.layers.0.attention.out_proj.bias\n",
      "hubert.encoder.layers.0.layer_norm.weight\n",
      "hubert.encoder.layers.0.layer_norm.bias\n",
      "hubert.encoder.layers.0.feed_forward.intermediate_dense.weight\n",
      "hubert.encoder.layers.0.feed_forward.intermediate_dense.bias\n",
      "hubert.encoder.layers.0.feed_forward.output_dense.weight\n",
      "hubert.encoder.layers.0.feed_forward.output_dense.bias\n",
      "hubert.encoder.layers.0.final_layer_norm.weight\n",
      "hubert.encoder.layers.0.final_layer_norm.bias\n",
      "hubert.encoder.layers.1.attention.k_proj.weight\n",
      "hubert.encoder.layers.1.attention.k_proj.bias\n",
      "hubert.encoder.layers.1.attention.v_proj.weight\n",
      "hubert.encoder.layers.1.attention.v_proj.bias\n",
      "hubert.encoder.layers.1.attention.q_proj.weight\n",
      "hubert.encoder.layers.1.attention.q_proj.bias\n",
      "hubert.encoder.layers.1.attention.out_proj.weight\n",
      "hubert.encoder.layers.1.attention.out_proj.bias\n",
      "hubert.encoder.layers.1.layer_norm.weight\n",
      "hubert.encoder.layers.1.layer_norm.bias\n",
      "hubert.encoder.layers.1.feed_forward.intermediate_dense.weight\n",
      "hubert.encoder.layers.1.feed_forward.intermediate_dense.bias\n",
      "hubert.encoder.layers.1.feed_forward.output_dense.weight\n",
      "hubert.encoder.layers.1.feed_forward.output_dense.bias\n",
      "hubert.encoder.layers.1.final_layer_norm.weight\n",
      "hubert.encoder.layers.1.final_layer_norm.bias\n",
      "hubert.encoder.layers.2.attention.k_proj.weight\n",
      "hubert.encoder.layers.2.attention.k_proj.bias\n",
      "hubert.encoder.layers.2.attention.v_proj.weight\n",
      "hubert.encoder.layers.2.attention.v_proj.bias\n",
      "hubert.encoder.layers.2.attention.q_proj.weight\n",
      "hubert.encoder.layers.2.attention.q_proj.bias\n",
      "hubert.encoder.layers.2.attention.out_proj.weight\n",
      "hubert.encoder.layers.2.attention.out_proj.bias\n",
      "hubert.encoder.layers.2.layer_norm.weight\n",
      "hubert.encoder.layers.2.layer_norm.bias\n",
      "hubert.encoder.layers.2.feed_forward.intermediate_dense.weight\n",
      "hubert.encoder.layers.2.feed_forward.intermediate_dense.bias\n",
      "hubert.encoder.layers.2.feed_forward.output_dense.weight\n",
      "hubert.encoder.layers.2.feed_forward.output_dense.bias\n",
      "hubert.encoder.layers.2.final_layer_norm.weight\n",
      "hubert.encoder.layers.2.final_layer_norm.bias\n",
      "hubert.encoder.layers.3.attention.k_proj.weight\n",
      "hubert.encoder.layers.3.attention.k_proj.bias\n",
      "hubert.encoder.layers.3.attention.v_proj.weight\n",
      "hubert.encoder.layers.3.attention.v_proj.bias\n",
      "hubert.encoder.layers.3.attention.q_proj.weight\n",
      "hubert.encoder.layers.3.attention.q_proj.bias\n",
      "hubert.encoder.layers.3.attention.out_proj.weight\n",
      "hubert.encoder.layers.3.attention.out_proj.bias\n",
      "hubert.encoder.layers.3.layer_norm.weight\n",
      "hubert.encoder.layers.3.layer_norm.bias\n",
      "hubert.encoder.layers.3.feed_forward.intermediate_dense.weight\n",
      "hubert.encoder.layers.3.feed_forward.intermediate_dense.bias\n",
      "hubert.encoder.layers.3.feed_forward.output_dense.weight\n",
      "hubert.encoder.layers.3.feed_forward.output_dense.bias\n",
      "hubert.encoder.layers.3.final_layer_norm.weight\n",
      "hubert.encoder.layers.3.final_layer_norm.bias\n",
      "hubert.encoder.layers.4.attention.k_proj.weight\n",
      "hubert.encoder.layers.4.attention.k_proj.bias\n",
      "hubert.encoder.layers.4.attention.v_proj.weight\n",
      "hubert.encoder.layers.4.attention.v_proj.bias\n",
      "hubert.encoder.layers.4.attention.q_proj.weight\n",
      "hubert.encoder.layers.4.attention.q_proj.bias\n",
      "hubert.encoder.layers.4.attention.out_proj.weight\n",
      "hubert.encoder.layers.4.attention.out_proj.bias\n",
      "hubert.encoder.layers.4.layer_norm.weight\n",
      "hubert.encoder.layers.4.layer_norm.bias\n",
      "hubert.encoder.layers.4.feed_forward.intermediate_dense.weight\n",
      "hubert.encoder.layers.4.feed_forward.intermediate_dense.bias\n",
      "hubert.encoder.layers.4.feed_forward.output_dense.weight\n",
      "hubert.encoder.layers.4.feed_forward.output_dense.bias\n",
      "hubert.encoder.layers.4.final_layer_norm.weight\n",
      "hubert.encoder.layers.4.final_layer_norm.bias\n",
      "hubert.encoder.layers.5.attention.k_proj.weight\n",
      "hubert.encoder.layers.5.attention.k_proj.bias\n",
      "hubert.encoder.layers.5.attention.v_proj.weight\n",
      "hubert.encoder.layers.5.attention.v_proj.bias\n",
      "hubert.encoder.layers.5.attention.q_proj.weight\n",
      "hubert.encoder.layers.5.attention.q_proj.bias\n",
      "hubert.encoder.layers.5.attention.out_proj.weight\n",
      "hubert.encoder.layers.5.attention.out_proj.bias\n",
      "hubert.encoder.layers.5.layer_norm.weight\n",
      "hubert.encoder.layers.5.layer_norm.bias\n",
      "hubert.encoder.layers.5.feed_forward.intermediate_dense.weight\n",
      "hubert.encoder.layers.5.feed_forward.intermediate_dense.bias\n",
      "hubert.encoder.layers.5.feed_forward.output_dense.weight\n",
      "hubert.encoder.layers.5.feed_forward.output_dense.bias\n",
      "hubert.encoder.layers.5.final_layer_norm.weight\n",
      "hubert.encoder.layers.5.final_layer_norm.bias\n",
      "hubert.encoder.layers.6.attention.k_proj.weight\n",
      "hubert.encoder.layers.6.attention.k_proj.bias\n",
      "hubert.encoder.layers.6.attention.v_proj.weight\n",
      "hubert.encoder.layers.6.attention.v_proj.bias\n",
      "hubert.encoder.layers.6.attention.q_proj.weight\n",
      "hubert.encoder.layers.6.attention.q_proj.bias\n",
      "hubert.encoder.layers.6.attention.out_proj.weight\n",
      "hubert.encoder.layers.6.attention.out_proj.bias\n",
      "hubert.encoder.layers.6.layer_norm.weight\n",
      "hubert.encoder.layers.6.layer_norm.bias\n",
      "hubert.encoder.layers.6.feed_forward.intermediate_dense.weight\n",
      "hubert.encoder.layers.6.feed_forward.intermediate_dense.bias\n",
      "hubert.encoder.layers.6.feed_forward.output_dense.weight\n",
      "hubert.encoder.layers.6.feed_forward.output_dense.bias\n",
      "hubert.encoder.layers.6.final_layer_norm.weight\n",
      "hubert.encoder.layers.6.final_layer_norm.bias\n",
      "hubert.encoder.layers.7.attention.k_proj.weight\n",
      "hubert.encoder.layers.7.attention.k_proj.bias\n",
      "hubert.encoder.layers.7.attention.v_proj.weight\n",
      "hubert.encoder.layers.7.attention.v_proj.bias\n",
      "hubert.encoder.layers.7.attention.q_proj.weight\n",
      "hubert.encoder.layers.7.attention.q_proj.bias\n",
      "hubert.encoder.layers.7.attention.out_proj.weight\n",
      "hubert.encoder.layers.7.attention.out_proj.bias\n",
      "hubert.encoder.layers.7.layer_norm.weight\n",
      "hubert.encoder.layers.7.layer_norm.bias\n",
      "hubert.encoder.layers.7.feed_forward.intermediate_dense.weight\n",
      "hubert.encoder.layers.7.feed_forward.intermediate_dense.bias\n",
      "hubert.encoder.layers.7.feed_forward.output_dense.weight\n",
      "hubert.encoder.layers.7.feed_forward.output_dense.bias\n",
      "hubert.encoder.layers.7.final_layer_norm.weight\n",
      "hubert.encoder.layers.7.final_layer_norm.bias\n",
      "hubert.encoder.layers.8.attention.k_proj.weight\n",
      "hubert.encoder.layers.8.attention.k_proj.bias\n",
      "hubert.encoder.layers.8.attention.v_proj.weight\n",
      "hubert.encoder.layers.8.attention.v_proj.bias\n",
      "hubert.encoder.layers.8.attention.q_proj.weight\n",
      "hubert.encoder.layers.8.attention.q_proj.bias\n",
      "hubert.encoder.layers.8.attention.out_proj.weight\n",
      "hubert.encoder.layers.8.attention.out_proj.bias\n",
      "hubert.encoder.layers.8.layer_norm.weight\n",
      "hubert.encoder.layers.8.layer_norm.bias\n",
      "hubert.encoder.layers.8.feed_forward.intermediate_dense.weight\n",
      "hubert.encoder.layers.8.feed_forward.intermediate_dense.bias\n",
      "hubert.encoder.layers.8.feed_forward.output_dense.weight\n",
      "hubert.encoder.layers.8.feed_forward.output_dense.bias\n",
      "hubert.encoder.layers.8.final_layer_norm.weight\n",
      "hubert.encoder.layers.8.final_layer_norm.bias\n",
      "hubert.encoder.layers.9.attention.k_proj.weight\n",
      "hubert.encoder.layers.9.attention.k_proj.bias\n",
      "hubert.encoder.layers.9.attention.v_proj.weight\n",
      "hubert.encoder.layers.9.attention.v_proj.bias\n",
      "hubert.encoder.layers.9.attention.q_proj.weight\n",
      "hubert.encoder.layers.9.attention.q_proj.bias\n",
      "hubert.encoder.layers.9.attention.out_proj.weight\n",
      "hubert.encoder.layers.9.attention.out_proj.bias\n",
      "hubert.encoder.layers.9.layer_norm.weight\n",
      "hubert.encoder.layers.9.layer_norm.bias\n",
      "hubert.encoder.layers.9.feed_forward.intermediate_dense.weight\n",
      "hubert.encoder.layers.9.feed_forward.intermediate_dense.bias\n",
      "hubert.encoder.layers.9.feed_forward.output_dense.weight\n",
      "hubert.encoder.layers.9.feed_forward.output_dense.bias\n",
      "hubert.encoder.layers.9.final_layer_norm.weight\n",
      "hubert.encoder.layers.9.final_layer_norm.bias\n",
      "hubert.encoder.layers.10.attention.k_proj.weight\n",
      "hubert.encoder.layers.10.attention.k_proj.bias\n",
      "hubert.encoder.layers.10.attention.v_proj.weight\n",
      "hubert.encoder.layers.10.attention.v_proj.bias\n",
      "hubert.encoder.layers.10.attention.q_proj.weight\n",
      "hubert.encoder.layers.10.attention.q_proj.bias\n",
      "hubert.encoder.layers.10.attention.out_proj.weight\n",
      "hubert.encoder.layers.10.attention.out_proj.bias\n",
      "hubert.encoder.layers.10.layer_norm.weight\n",
      "hubert.encoder.layers.10.layer_norm.bias\n",
      "hubert.encoder.layers.10.feed_forward.intermediate_dense.weight\n",
      "hubert.encoder.layers.10.feed_forward.intermediate_dense.bias\n",
      "hubert.encoder.layers.10.feed_forward.output_dense.weight\n",
      "hubert.encoder.layers.10.feed_forward.output_dense.bias\n",
      "hubert.encoder.layers.10.final_layer_norm.weight\n",
      "hubert.encoder.layers.10.final_layer_norm.bias\n",
      "hubert.encoder.layers.11.attention.k_proj.weight\n",
      "hubert.encoder.layers.11.attention.k_proj.bias\n",
      "hubert.encoder.layers.11.attention.v_proj.weight\n",
      "hubert.encoder.layers.11.attention.v_proj.bias\n",
      "hubert.encoder.layers.11.attention.q_proj.weight\n",
      "hubert.encoder.layers.11.attention.q_proj.bias\n",
      "hubert.encoder.layers.11.attention.out_proj.weight\n",
      "hubert.encoder.layers.11.attention.out_proj.bias\n",
      "hubert.encoder.layers.11.layer_norm.weight\n",
      "hubert.encoder.layers.11.layer_norm.bias\n",
      "hubert.encoder.layers.11.feed_forward.intermediate_dense.weight\n",
      "hubert.encoder.layers.11.feed_forward.intermediate_dense.bias\n",
      "hubert.encoder.layers.11.feed_forward.output_dense.weight\n",
      "hubert.encoder.layers.11.feed_forward.output_dense.bias\n",
      "hubert.encoder.layers.11.final_layer_norm.weight\n",
      "hubert.encoder.layers.11.final_layer_norm.bias\n",
      "projector.weight\n",
      "projector.bias\n",
      "classifier.weight\n",
      "classifier.bias\n"
     ]
    }
   ],
   "source": [
    "for param in model.named_parameters():\n",
    "    print(param[0])"
   ]
  },
  {
   "cell_type": "code",
   "execution_count": 46,
   "id": "f7ef8543-7eff-4cd5-82b1-22a26d3f9dd0",
   "metadata": {},
   "outputs": [
    {
     "name": "stdout",
     "output_type": "stream",
     "text": [
      "hubert.encoder.layers.10.attention.k_proj.weight\n",
      "hubert.encoder.layers.10.attention.k_proj.bias\n",
      "hubert.encoder.layers.10.attention.v_proj.weight\n",
      "hubert.encoder.layers.10.attention.v_proj.bias\n",
      "hubert.encoder.layers.10.attention.q_proj.weight\n",
      "hubert.encoder.layers.10.attention.q_proj.bias\n",
      "hubert.encoder.layers.10.attention.out_proj.weight\n",
      "hubert.encoder.layers.10.attention.out_proj.bias\n",
      "hubert.encoder.layers.10.layer_norm.weight\n",
      "hubert.encoder.layers.10.layer_norm.bias\n",
      "hubert.encoder.layers.10.feed_forward.intermediate_dense.weight\n",
      "hubert.encoder.layers.10.feed_forward.intermediate_dense.bias\n",
      "hubert.encoder.layers.10.feed_forward.output_dense.weight\n",
      "hubert.encoder.layers.10.feed_forward.output_dense.bias\n",
      "hubert.encoder.layers.10.final_layer_norm.weight\n",
      "hubert.encoder.layers.10.final_layer_norm.bias\n",
      "hubert.encoder.layers.11.attention.k_proj.weight\n",
      "hubert.encoder.layers.11.attention.k_proj.bias\n",
      "hubert.encoder.layers.11.attention.v_proj.weight\n",
      "hubert.encoder.layers.11.attention.v_proj.bias\n",
      "hubert.encoder.layers.11.attention.q_proj.weight\n",
      "hubert.encoder.layers.11.attention.q_proj.bias\n",
      "hubert.encoder.layers.11.attention.out_proj.weight\n",
      "hubert.encoder.layers.11.attention.out_proj.bias\n",
      "hubert.encoder.layers.11.layer_norm.weight\n",
      "hubert.encoder.layers.11.layer_norm.bias\n",
      "hubert.encoder.layers.11.feed_forward.intermediate_dense.weight\n",
      "hubert.encoder.layers.11.feed_forward.intermediate_dense.bias\n",
      "hubert.encoder.layers.11.feed_forward.output_dense.weight\n",
      "hubert.encoder.layers.11.feed_forward.output_dense.bias\n",
      "hubert.encoder.layers.11.final_layer_norm.weight\n",
      "hubert.encoder.layers.11.final_layer_norm.bias\n",
      "projector.weight\n",
      "projector.bias\n",
      "classifier.weight\n",
      "classifier.bias\n"
     ]
    }
   ],
   "source": [
    "# Разморозка двух последних слоев кодировщика\n",
    "layers_freeze_num = 2\n",
    "n_layers = (\n",
    "    4 + layers_freeze_num * 16\n",
    ")  # 4 refers to projector and classifier's weights and biases.\n",
    "\n",
    "for name, param in list(model.named_parameters())[-n_layers:]:\n",
    "    param.requires_grad = True\n",
    "    print(name)"
   ]
  },
  {
   "cell_type": "code",
   "execution_count": 10,
   "id": "9c50df23-d1ab-4427-b04f-a3dcf350b153",
   "metadata": {},
   "outputs": [],
   "source": [
    "def speech_file_to_array(batch):\n",
    "    batch[\"array\"] = librosa.load(f'../{batch[\"audio_path\"]}', sr=16000, mono=False)[0]\n",
    "    return batch\n",
    "\n",
    "def get_input_values(batch, feature_extractor):\n",
    "    array = batch[\"array\"]\n",
    "    input = feature_extractor(\n",
    "        array,\n",
    "        sampling_rate=16000,\n",
    "        padding=True,\n",
    "        return_tensors=\"pt\"\n",
    "    )\n",
    "\n",
    "    batch[\"input_values\"] = input.input_values[0]\n",
    "    \n",
    "    return batch"
   ]
  },
  {
   "cell_type": "code",
   "execution_count": 11,
   "id": "353d9d28-5203-4966-ad85-317b18813809",
   "metadata": {},
   "outputs": [],
   "source": [
    "ds = ds.map(speech_file_to_array)"
   ]
  },
  {
   "cell_type": "code",
   "execution_count": 12,
   "id": "9e66785c-b0a7-44a1-8802-ceb15d8f568a",
   "metadata": {},
   "outputs": [],
   "source": [
    "ds = ds.remove_columns([\"id\", \"features_path\", \"emotion\"])"
   ]
  },
  {
   "cell_type": "code",
   "execution_count": 13,
   "id": "403983ef-77a8-49fd-a7d5-b87d0eff1e7f",
   "metadata": {},
   "outputs": [
    {
     "data": {
      "application/vnd.jupyter.widget-view+json": {
       "model_id": "001b4315884642c195366d0f038e4839",
       "version_major": 2,
       "version_minor": 0
      },
      "text/plain": [
       "Map:   0%|          | 0/400 [00:00<?, ? examples/s]"
      ]
     },
     "metadata": {},
     "output_type": "display_data"
    }
   ],
   "source": [
    "ds = ds.rename_column(\"label\", \"labels\")\n",
    "ds = ds.map(\n",
    "    get_input_values,\n",
    "    fn_kwargs={\"feature_extractor\": feature_extractor}\n",
    ")"
   ]
  },
  {
   "cell_type": "code",
   "execution_count": 14,
   "id": "0de08954-ebd8-43cf-a58b-c46969a0a4e2",
   "metadata": {},
   "outputs": [
    {
     "data": {
      "text/plain": [
       "DatasetDict({\n",
       "    train: Dataset({\n",
       "        features: ['audio_path', 'labels', 'array', 'input_values'],\n",
       "        num_rows: 400\n",
       "    })\n",
       "})"
      ]
     },
     "execution_count": 14,
     "metadata": {},
     "output_type": "execute_result"
    }
   ],
   "source": [
    "ds"
   ]
  },
  {
   "cell_type": "code",
   "execution_count": 15,
   "id": "098e4118-156c-4eca-a1d3-21d787f7a375",
   "metadata": {},
   "outputs": [],
   "source": [
    "from datasets import DatasetDict\n",
    "\n",
    "# 90% train, 10% test + validation\n",
    "train_testvalid = ds[\"train\"].train_test_split(shuffle=True, test_size=0.1)\n",
    "\n",
    "# Split the 10% test + valid in half test, half valid\n",
    "test_valid = train_testvalid['test'].train_test_split(test_size=0.5)\n",
    "\n",
    "ds = DatasetDict({\n",
    "    'train': train_testvalid['train'],\n",
    "    'test': test_valid['test'],\n",
    "    'val': test_valid['train']\n",
    "})"
   ]
  },
  {
   "cell_type": "code",
   "execution_count": 48,
   "id": "ff91d17b-612a-4641-bdaf-01e28bbc1c07",
   "metadata": {},
   "outputs": [],
   "source": [
    "from dataclasses import dataclass\n",
    "from typing import Dict, List, Optional, Union\n",
    "\n",
    "import torch\n",
    "from transformers import Wav2Vec2Processor\n",
    "\n",
    "@dataclass\n",
    "class DataCollatorCTCWithPadding:\n",
    "    processor: Wav2Vec2Processor\n",
    "    padding: Union[bool, str] = True\n",
    "    max_length: Optional[int] = None\n",
    "    max_length_labels: Optional[int] = None\n",
    "    pad_to_multiple_of: Optional[int] = None\n",
    "    pad_to_multiple_of_labels: Optional[int] = None\n",
    "\n",
    "    def __call__(\n",
    "        self, examples: List[Dict[str, Union[List[int], torch.Tensor]]]\n",
    "    ) -> Dict[str, torch.Tensor]:\n",
    "\n",
    "        input_features = [\n",
    "            {\"input_values\": example[\"input_values\"]} for example in examples\n",
    "        ]\n",
    "        labels = [example[\"labels\"] for example in examples]\n",
    "\n",
    "        batch = self.processor.pad(\n",
    "            input_features,\n",
    "            padding=self.padding,\n",
    "            max_length=self.max_length,\n",
    "            pad_to_multiple_of=self.pad_to_multiple_of,\n",
    "            return_tensors=\"pt\",\n",
    "        )\n",
    "        batch[\"labels\"] = torch.tensor(labels)\n",
    "\n",
    "        return batch"
   ]
  },
  {
   "cell_type": "code",
   "execution_count": 49,
   "id": "92b7576a-459c-4591-8c25-908959b328da",
   "metadata": {},
   "outputs": [],
   "source": [
    "trainer_config = {\n",
    "  \"OUTPUT_DIR\": \"results\",\n",
    "  \"EPOCHS\": 5,\n",
    "  \"TRAIN_BATCH_SIZE\": 4, # 8\n",
    "  \"EVAL_BATCH_SIZE\": 4, # 8\n",
    "  \"GRADIENT_ACCUMULATION_STEPS\": 2, # 4\n",
    "  \"WARMUP_STEPS\": 500,\n",
    "  \"DECAY\": 0.01,\n",
    "  \"LOGGING_STEPS\": 10,\n",
    "  # \"MODEL_DIR\": \"models/test-hubert-model\",\n",
    "  \"SAVE_STEPS\": 100,\n",
    "  \"LR\": 1e-3,\n",
    "}\n",
    "\n",
    "# Fine-Tuning with Trainer\n",
    "training_args = TrainingArguments(\n",
    "    output_dir=trainer_config[\"OUTPUT_DIR\"],  # output directory\n",
    "    gradient_accumulation_steps=trainer_config[\"GRADIENT_ACCUMULATION_STEPS\"],  # accumulate the gradients before running optimization step\n",
    "    num_train_epochs=trainer_config[\"EPOCHS\"], # total number of training epochs\n",
    "    per_device_train_batch_size=trainer_config[\"TRAIN_BATCH_SIZE\"],\n",
    "    per_device_eval_batch_size=trainer_config[\"EVAL_BATCH_SIZE\"],  # batch size for evaluation\n",
    "    warmup_steps=trainer_config[\"WARMUP_STEPS\"],  # number of warmup steps for learning rate scheduler\n",
    "    save_steps=trainer_config[\"SAVE_STEPS\"], # save checkpoint every 100 steps\n",
    "    weight_decay=trainer_config[\"DECAY\"],  # strength of weight decay\n",
    "    logging_steps=trainer_config[\"LOGGING_STEPS\"],\n",
    "    eval_strategy=\"epoch\",  # report metric at end of each epoch\n",
    "    learning_rate=1e-3, # 5e-5 by default\n",
    ")"
   ]
  },
  {
   "cell_type": "code",
   "execution_count": 50,
   "id": "10efe3c0-301d-4eb3-844f-928484fbbb8d",
   "metadata": {},
   "outputs": [],
   "source": [
    "data_collator = DataCollatorCTCWithPadding(\n",
    "    processor=feature_extractor,\n",
    "    padding=True\n",
    ")"
   ]
  },
  {
   "cell_type": "code",
   "execution_count": 20,
   "id": "712adcc8-944b-450e-a0d4-37ab544093d8",
   "metadata": {},
   "outputs": [],
   "source": [
    "import evaluate\n",
    "\n",
    "def compute_metrics(eval_pred):\n",
    "    compute_accuracy_metric = evaluate.load(\"accuracy\")\n",
    "    logits, labels = eval_pred\n",
    "    predictions = np.argmax(logits, axis=-1)\n",
    "    return compute_accuracy_metric.compute(predictions=predictions, references=labels)"
   ]
  },
  {
   "cell_type": "code",
   "execution_count": 51,
   "id": "d7888aae-344f-48c7-a4ad-cf4850de02f0",
   "metadata": {},
   "outputs": [],
   "source": [
    "trainer = Trainer(\n",
    "    model=model,\n",
    "    args=training_args,\n",
    "    data_collator=data_collator,\n",
    "    train_dataset=ds[\"train\"],\n",
    "    eval_dataset=ds[\"val\"],\n",
    "    compute_metrics=compute_metrics,\n",
    ")"
   ]
  },
  {
   "cell_type": "code",
   "execution_count": 52,
   "id": "92e590b6-b15b-4a69-bcef-944e0f0700c2",
   "metadata": {},
   "outputs": [
    {
     "data": {
      "text/html": [
       "\n",
       "    <div>\n",
       "      \n",
       "      <progress value='225' max='225' style='width:300px; height:20px; vertical-align: middle;'></progress>\n",
       "      [225/225 22:22, Epoch 5/5]\n",
       "    </div>\n",
       "    <table border=\"1\" class=\"dataframe\">\n",
       "  <thead>\n",
       " <tr style=\"text-align: left;\">\n",
       "      <th>Epoch</th>\n",
       "      <th>Training Loss</th>\n",
       "      <th>Validation Loss</th>\n",
       "      <th>Accuracy</th>\n",
       "    </tr>\n",
       "  </thead>\n",
       "  <tbody>\n",
       "    <tr>\n",
       "      <td>1</td>\n",
       "      <td>1.398500</td>\n",
       "      <td>1.372030</td>\n",
       "      <td>0.400000</td>\n",
       "    </tr>\n",
       "    <tr>\n",
       "      <td>2</td>\n",
       "      <td>1.324600</td>\n",
       "      <td>1.363753</td>\n",
       "      <td>0.350000</td>\n",
       "    </tr>\n",
       "    <tr>\n",
       "      <td>3</td>\n",
       "      <td>1.337100</td>\n",
       "      <td>1.336150</td>\n",
       "      <td>0.350000</td>\n",
       "    </tr>\n",
       "    <tr>\n",
       "      <td>4</td>\n",
       "      <td>1.278000</td>\n",
       "      <td>1.176343</td>\n",
       "      <td>0.400000</td>\n",
       "    </tr>\n",
       "    <tr>\n",
       "      <td>5</td>\n",
       "      <td>1.105400</td>\n",
       "      <td>1.438816</td>\n",
       "      <td>0.400000</td>\n",
       "    </tr>\n",
       "  </tbody>\n",
       "</table><p>"
      ],
      "text/plain": [
       "<IPython.core.display.HTML object>"
      ]
     },
     "metadata": {},
     "output_type": "display_data"
    },
    {
     "data": {
      "text/plain": [
       "TrainOutput(global_step=225, training_loss=1.2928171242607964, metrics={'train_runtime': 1346.6662, 'train_samples_per_second': 1.337, 'train_steps_per_second': 0.167, 'total_flos': 1.213761859269742e+17, 'train_loss': 1.2928171242607964, 'epoch': 5.0})"
      ]
     },
     "execution_count": 52,
     "metadata": {},
     "output_type": "execute_result"
    }
   ],
   "source": [
    "trainer.train()"
   ]
  },
  {
   "cell_type": "code",
   "execution_count": null,
   "id": "86862b7b-8f13-4c48-9f6d-330c811cdaa9",
   "metadata": {},
   "outputs": [],
   "source": []
  },
  {
   "cell_type": "code",
   "execution_count": null,
   "id": "1ff218ea-7b6b-44f9-a556-4f79cd7a457d",
   "metadata": {},
   "outputs": [],
   "source": []
  },
  {
   "cell_type": "code",
   "execution_count": null,
   "id": "32377514-d0b6-4709-b675-8d41942f187c",
   "metadata": {},
   "outputs": [],
   "source": []
  },
  {
   "cell_type": "code",
   "execution_count": null,
   "id": "661810e7-038a-418b-ad24-718904807f85",
   "metadata": {},
   "outputs": [],
   "source": []
  },
  {
   "cell_type": "code",
   "execution_count": null,
   "id": "da9a6011-83e2-4f0d-89b7-7c2ce21cc600",
   "metadata": {},
   "outputs": [],
   "source": []
  },
  {
   "cell_type": "code",
   "execution_count": null,
   "id": "d0c60322-ad49-45f7-976a-a363990581aa",
   "metadata": {},
   "outputs": [],
   "source": [
    "def emo_2_label(emotion):\n",
    "    d = {\n",
    "        \"neutral\": 0,\n",
    "        \"angry\": 1,\n",
    "        \"positive\": 2,\n",
    "        \"sad\": 3\n",
    "    }\n",
    "\n",
    "    return d[emotion]\n",
    "\n",
    "def label_2_emo(label):\n",
    "    d = [\"neutral\", \"angry\", \"positive\", \"sad\"]\n",
    "\n",
    "    return d[label]"
   ]
  }
 ],
 "metadata": {
  "kernelspec": {
   "display_name": "Python 3 (ipykernel)",
   "language": "python",
   "name": "python3"
  },
  "language_info": {
   "codemirror_mode": {
    "name": "ipython",
    "version": 3
   },
   "file_extension": ".py",
   "mimetype": "text/x-python",
   "name": "python",
   "nbconvert_exporter": "python",
   "pygments_lexer": "ipython3",
   "version": "3.11.9"
  }
 },
 "nbformat": 4,
 "nbformat_minor": 5
}
