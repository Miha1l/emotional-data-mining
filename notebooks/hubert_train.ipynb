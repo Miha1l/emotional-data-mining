{
 "cells": [
  {
   "cell_type": "markdown",
   "id": "82a465a2-13b5-4984-8243-3c1f004dbe0f",
   "metadata": {},
   "source": [
    "# Обучение модели HuBERT для задачи распознавания эмоций в речи"
   ]
  },
  {
   "cell_type": "markdown",
   "id": "86755141-8da7-45bc-9fbd-a6b14ce2edb1",
   "metadata": {},
   "source": [
    "## 1. Загрузка датасета"
   ]
  },
  {
   "cell_type": "code",
   "execution_count": 1,
   "id": "a8cb950e-99fc-45ca-a676-52fe41b2c539",
   "metadata": {},
   "outputs": [],
   "source": [
    "from datasets import load_dataset\n",
    "\n",
    "data_files = {\"train\": \"../data/crowd_train_500.csv\", \"test\": \"../data/crowd_test_500.csv\"}\n",
    "ds = load_dataset(\"csv\", data_files=data_files)"
   ]
  },
  {
   "cell_type": "code",
   "execution_count": 2,
   "id": "d4c22c0a-44c6-4c71-ba18-16d6cd66455a",
   "metadata": {},
   "outputs": [
    {
     "data": {
      "text/plain": [
       "DatasetDict({\n",
       "    train: Dataset({\n",
       "        features: ['id', 'audio_path', 'features_path', 'emotion', 'label', 'duration'],\n",
       "        num_rows: 2000\n",
       "    })\n",
       "    test: Dataset({\n",
       "        features: ['id', 'audio_path', 'features_path', 'emotion', 'label', 'duration'],\n",
       "        num_rows: 2000\n",
       "    })\n",
       "})"
      ]
     },
     "execution_count": 2,
     "metadata": {},
     "output_type": "execute_result"
    }
   ],
   "source": [
    "ds"
   ]
  },
  {
   "cell_type": "code",
   "execution_count": 3,
   "id": "be0d757f-ba16-4003-bebf-9064df6654b1",
   "metadata": {},
   "outputs": [
    {
     "name": "stdout",
     "output_type": "stream",
     "text": [
      "Суммарное время обучающего набора: 2:41:34.095813\n",
      "Суммарное время тестового набора: 2:43:03.650688\n"
     ]
    }
   ],
   "source": [
    "import datetime\n",
    "\n",
    "print(f\"Суммарное время обучающего набора: {datetime.timedelta(seconds=sum(ds['train']['duration']))}\")\n",
    "print(f\"Суммарное время тестового набора: {datetime.timedelta(seconds=sum(ds['test']['duration']))}\")"
   ]
  },
  {
   "cell_type": "markdown",
   "id": "43ca5238-ac2e-4dba-98e2-b425ad07d808",
   "metadata": {},
   "source": [
    "## 2. Подготовка модели"
   ]
  },
  {
   "cell_type": "markdown",
   "id": "4f6c64ca-5528-4e1a-b51b-ef2dbd8f5675",
   "metadata": {},
   "source": [
    "### 2.1 Загрузка модели"
   ]
  },
  {
   "cell_type": "code",
   "execution_count": 4,
   "id": "2ee57306-5910-4590-a0b8-f34aaf6c9788",
   "metadata": {},
   "outputs": [],
   "source": [
    "from transformers import (\n",
    "    HubertForSequenceClassification,\n",
    "    AutoConfig,\n",
    "    Trainer,\n",
    "    TrainingArguments,\n",
    "    Wav2Vec2FeatureExtractor,\n",
    ")\n",
    "\n",
    "import librosa\n",
    "import numpy as np"
   ]
  },
  {
   "cell_type": "code",
   "execution_count": 5,
   "id": "80dac4a3-6829-49b0-becd-4fd3fe63e098",
   "metadata": {},
   "outputs": [],
   "source": [
    "model_id = \"facebook/hubert-base-ls960\"\n",
    "# model_id = \"facebook/hubert-large-ll60k\"\n",
    "# model_id = \"facebook/hubert-large-ls960-ft\"\n",
    "# model_id = \"facebook/hubert-xlarge-ll60k\""
   ]
  },
  {
   "cell_type": "code",
   "execution_count": 6,
   "id": "096f30bd-7013-49f0-97b6-cec165fab044",
   "metadata": {},
   "outputs": [
    {
     "name": "stderr",
     "output_type": "stream",
     "text": [
      "Some weights of HubertForSequenceClassification were not initialized from the model checkpoint at facebook/hubert-base-ls960 and are newly initialized: ['classifier.bias', 'classifier.weight', 'encoder.pos_conv_embed.conv.parametrizations.weight.original0', 'encoder.pos_conv_embed.conv.parametrizations.weight.original1', 'projector.bias', 'projector.weight']\n",
      "You should probably TRAIN this model on a down-stream task to be able to use it for predictions and inference.\n"
     ]
    }
   ],
   "source": [
    "NUM_LABELS = 4\n",
    "labels_names = [\"neutral\", \"angry\", \"positive\", \"sad\"]\n",
    "\n",
    "feature_extractor = Wav2Vec2FeatureExtractor.from_pretrained(model_id)\n",
    "\n",
    "config = AutoConfig.from_pretrained(\n",
    "    model_id, \n",
    "    num_labels=NUM_LABELS,\n",
    "    label2id={label: i for i, label in enumerate(labels_names)},\n",
    "    id2label={i: label for i, label in enumerate(labels_names)},\n",
    ")\n",
    "\n",
    "model = HubertForSequenceClassification.from_pretrained(\n",
    "    model_id,\n",
    "    config=config,\n",
    "    ignore_mismatched_sizes=True\n",
    ")"
   ]
  },
  {
   "cell_type": "code",
   "execution_count": 7,
   "id": "3263ec33-dbea-4454-ba0d-9e7bbbf41511",
   "metadata": {},
   "outputs": [],
   "source": [
    "# Заморозка всех слоев\n",
    "for param in model.parameters():\n",
    "    param.requires_grad = False\n",
    "\n",
    "# model.freeze_feature_extractor() # Заморозка только feature_extractor части\n",
    "\n",
    "# for param in model.named_parameters():\n",
    "    # print(param[0])"
   ]
  },
  {
   "cell_type": "markdown",
   "id": "cf3b5cdb-887e-4caa-bb90-5567ec4042c1",
   "metadata": {},
   "source": [
    "### 2.2 Разморозка последних N слоев кодировщика"
   ]
  },
  {
   "cell_type": "code",
   "execution_count": 8,
   "id": "f7ef8543-7eff-4cd5-82b1-22a26d3f9dd0",
   "metadata": {},
   "outputs": [
    {
     "name": "stdout",
     "output_type": "stream",
     "text": [
      "hubert.encoder.layers.10.attention.k_proj.weight\n",
      "hubert.encoder.layers.10.attention.k_proj.bias\n",
      "hubert.encoder.layers.10.attention.v_proj.weight\n",
      "hubert.encoder.layers.10.attention.v_proj.bias\n",
      "hubert.encoder.layers.10.attention.q_proj.weight\n",
      "hubert.encoder.layers.10.attention.q_proj.bias\n",
      "hubert.encoder.layers.10.attention.out_proj.weight\n",
      "hubert.encoder.layers.10.attention.out_proj.bias\n",
      "hubert.encoder.layers.10.layer_norm.weight\n",
      "hubert.encoder.layers.10.layer_norm.bias\n",
      "hubert.encoder.layers.10.feed_forward.intermediate_dense.weight\n",
      "hubert.encoder.layers.10.feed_forward.intermediate_dense.bias\n",
      "hubert.encoder.layers.10.feed_forward.output_dense.weight\n",
      "hubert.encoder.layers.10.feed_forward.output_dense.bias\n",
      "hubert.encoder.layers.10.final_layer_norm.weight\n",
      "hubert.encoder.layers.10.final_layer_norm.bias\n",
      "hubert.encoder.layers.11.attention.k_proj.weight\n",
      "hubert.encoder.layers.11.attention.k_proj.bias\n",
      "hubert.encoder.layers.11.attention.v_proj.weight\n",
      "hubert.encoder.layers.11.attention.v_proj.bias\n",
      "hubert.encoder.layers.11.attention.q_proj.weight\n",
      "hubert.encoder.layers.11.attention.q_proj.bias\n",
      "hubert.encoder.layers.11.attention.out_proj.weight\n",
      "hubert.encoder.layers.11.attention.out_proj.bias\n",
      "hubert.encoder.layers.11.layer_norm.weight\n",
      "hubert.encoder.layers.11.layer_norm.bias\n",
      "hubert.encoder.layers.11.feed_forward.intermediate_dense.weight\n",
      "hubert.encoder.layers.11.feed_forward.intermediate_dense.bias\n",
      "hubert.encoder.layers.11.feed_forward.output_dense.weight\n",
      "hubert.encoder.layers.11.feed_forward.output_dense.bias\n",
      "hubert.encoder.layers.11.final_layer_norm.weight\n",
      "hubert.encoder.layers.11.final_layer_norm.bias\n",
      "projector.weight\n",
      "projector.bias\n",
      "classifier.weight\n",
      "classifier.bias\n"
     ]
    }
   ],
   "source": [
    "layers_freeze_num = 2\n",
    "\n",
    "n_layers = (\n",
    "    4 + layers_freeze_num * 16\n",
    ") # 4 refers to projector and classifier's weights and biases.\n",
    "\n",
    "for name, param in list(model.named_parameters())[-n_layers:]:\n",
    "    param.requires_grad = True\n",
    "    print(name)"
   ]
  },
  {
   "cell_type": "markdown",
   "id": "8e4a3dc7-4deb-4daf-95fb-317f7352d3b8",
   "metadata": {},
   "source": [
    "## 3. Подготовка данных"
   ]
  },
  {
   "cell_type": "code",
   "execution_count": 9,
   "id": "9c50df23-d1ab-4427-b04f-a3dcf350b153",
   "metadata": {},
   "outputs": [],
   "source": [
    "def speech_file_to_array(batch):\n",
    "    batch[\"array\"] = librosa.load(f'../{batch[\"audio_path\"]}', sr=16000, mono=False)[0]\n",
    "    return batch\n",
    "\n",
    "def get_input_values(batch, feature_extractor):\n",
    "    array = batch[\"array\"]\n",
    "    input = feature_extractor(\n",
    "        array,\n",
    "        sampling_rate=16000,\n",
    "        padding=True,\n",
    "        return_tensors=\"pt\"\n",
    "    )\n",
    "\n",
    "    batch[\"input_values\"] = input.input_values[0]\n",
    "    \n",
    "    return batch"
   ]
  },
  {
   "cell_type": "code",
   "execution_count": 10,
   "id": "353d9d28-5203-4966-ad85-317b18813809",
   "metadata": {},
   "outputs": [],
   "source": [
    "ds = ds.remove_columns([\"id\", \"features_path\", \"emotion\", \"duration\"])\n",
    "ds = ds.rename_column(\"label\", \"labels\")\n",
    "ds = ds.map(speech_file_to_array)\n",
    "ds = ds.map(\n",
    "    get_input_values,\n",
    "    fn_kwargs={\"feature_extractor\": feature_extractor}\n",
    ")"
   ]
  },
  {
   "cell_type": "code",
   "execution_count": 11,
   "id": "9e66785c-b0a7-44a1-8802-ceb15d8f568a",
   "metadata": {},
   "outputs": [
    {
     "data": {
      "text/plain": [
       "DatasetDict({\n",
       "    train: Dataset({\n",
       "        features: ['audio_path', 'labels', 'array', 'input_values'],\n",
       "        num_rows: 2000\n",
       "    })\n",
       "    test: Dataset({\n",
       "        features: ['audio_path', 'labels', 'array', 'input_values'],\n",
       "        num_rows: 2000\n",
       "    })\n",
       "})"
      ]
     },
     "execution_count": 11,
     "metadata": {},
     "output_type": "execute_result"
    }
   ],
   "source": [
    "ds"
   ]
  },
  {
   "cell_type": "code",
   "execution_count": 12,
   "id": "098e4118-156c-4eca-a1d3-21d787f7a375",
   "metadata": {},
   "outputs": [
    {
     "data": {
      "text/plain": [
       "DatasetDict({\n",
       "    train: Dataset({\n",
       "        features: ['audio_path', 'labels', 'array', 'input_values'],\n",
       "        num_rows: 1800\n",
       "    })\n",
       "    test: Dataset({\n",
       "        features: ['audio_path', 'labels', 'array', 'input_values'],\n",
       "        num_rows: 2000\n",
       "    })\n",
       "    val: Dataset({\n",
       "        features: ['audio_path', 'labels', 'array', 'input_values'],\n",
       "        num_rows: 200\n",
       "    })\n",
       "})"
      ]
     },
     "execution_count": 12,
     "metadata": {},
     "output_type": "execute_result"
    }
   ],
   "source": [
    "from datasets import DatasetDict\n",
    "\n",
    "# 90% train, 10% validation\n",
    "train_val = ds[\"train\"].train_test_split(shuffle=True, test_size=0.1)\n",
    "\n",
    "ds = DatasetDict({\n",
    "    'train': train_val['train'],\n",
    "    'test': ds['test'],\n",
    "    'val': train_val['test']\n",
    "})\n",
    "\n",
    "ds"
   ]
  },
  {
   "cell_type": "markdown",
   "id": "07c3932b-b201-40d7-8609-7c0cea05faee",
   "metadata": {},
   "source": [
    "## 4. Обучение"
   ]
  },
  {
   "cell_type": "code",
   "execution_count": 14,
   "id": "ff91d17b-612a-4641-bdaf-01e28bbc1c07",
   "metadata": {},
   "outputs": [],
   "source": [
    "from dataclasses import dataclass\n",
    "from typing import Dict, List, Optional, Union\n",
    "\n",
    "import torch\n",
    "from transformers import Wav2Vec2Processor\n",
    "\n",
    "@dataclass\n",
    "class DataCollatorCTCWithPadding:\n",
    "    processor: Wav2Vec2Processor\n",
    "    padding: Union[bool, str] = True\n",
    "    max_length: Optional[int] = None\n",
    "    max_length_labels: Optional[int] = None\n",
    "    pad_to_multiple_of: Optional[int] = None\n",
    "    pad_to_multiple_of_labels: Optional[int] = None\n",
    "\n",
    "    def __call__(\n",
    "        self, features: List[Dict[str, Union[List[int], torch.Tensor]]]\n",
    "    ) -> Dict[str, torch.Tensor]:\n",
    "\n",
    "        input_features = [\n",
    "            {\"input_values\": feature[\"input_values\"]} for feature in features\n",
    "        ]\n",
    "        \n",
    "        labels = [feature[\"labels\"] for feature in features]\n",
    "\n",
    "        batch = self.processor.pad(\n",
    "            input_features,\n",
    "            padding=self.padding,\n",
    "            max_length=self.max_length,\n",
    "            pad_to_multiple_of=self.pad_to_multiple_of,\n",
    "            return_tensors=\"pt\",\n",
    "        )\n",
    "        \n",
    "        batch[\"labels\"] = torch.tensor(labels)\n",
    "\n",
    "        return batch"
   ]
  },
  {
   "cell_type": "code",
   "execution_count": 15,
   "id": "712adcc8-944b-450e-a0d4-37ab544093d8",
   "metadata": {},
   "outputs": [],
   "source": [
    "import evaluate\n",
    "\n",
    "def compute_metrics(eval_pred):\n",
    "    compute_accuracy_metric = evaluate.load(\"accuracy\")\n",
    "    logits, labels = eval_pred\n",
    "    predictions = np.argmax(logits, axis=-1)\n",
    "    return compute_accuracy_metric.compute(predictions=predictions, references=labels)"
   ]
  },
  {
   "cell_type": "code",
   "execution_count": 17,
   "id": "9ccc9109-d2ae-471b-b0f9-eff6fb45e8d6",
   "metadata": {},
   "outputs": [],
   "source": [
    "trainer_config = {\n",
    "    \"OUTPUT_DIR\": \"train_results/2000_samples_2_layers\",\n",
    "    \"MODEL_DIR\": \"models/hubert-base-dusha-ft-2-layers\",\n",
    "    \"EPOCHS\": 3,\n",
    "    \"TRAIN_BATCH_SIZE\": 8, # [4, 8]\n",
    "    \"EVAL_BATCH_SIZE\": 8, # [4, 8]\n",
    "    \"GRADIENT_ACCUMULATION_STEPS\": 4, # [2, 4]\n",
    "    \"WARMUP_STEPS\": 500,\n",
    "    \"DECAY\": 0.01,\n",
    "    \"LOGGING_STEPS\": 10,\n",
    "    \"SAVE_STEPS\": 100,\n",
    "    \"LR\": 5e-5,\n",
    "    \"FP16\": True,\n",
    "}"
   ]
  },
  {
   "cell_type": "code",
   "execution_count": 18,
   "id": "92b7576a-459c-4591-8c25-908959b328da",
   "metadata": {},
   "outputs": [],
   "source": [
    "training_args = TrainingArguments(\n",
    "    output_dir=trainer_config[\"OUTPUT_DIR\"],  # output directory\n",
    "    gradient_accumulation_steps=trainer_config[\"GRADIENT_ACCUMULATION_STEPS\"],  # accumulate the gradients before running optimization step\n",
    "    num_train_epochs=trainer_config[\"EPOCHS\"], # total number of training epochs\n",
    "    per_device_train_batch_size=trainer_config[\"TRAIN_BATCH_SIZE\"],\n",
    "    per_device_eval_batch_size=trainer_config[\"EVAL_BATCH_SIZE\"],  # batch size for evaluation\n",
    "    # warmup_steps=trainer_config[\"WARMUP_STEPS\"],  # number of warmup steps for learning rate scheduler\n",
    "    save_steps=trainer_config[\"SAVE_STEPS\"], # save checkpoint every 100 steps\n",
    "    # weight_decay=trainer_config[\"DECAY\"],  # strength of weight decay\n",
    "    logging_steps=trainer_config[\"LOGGING_STEPS\"],\n",
    "    eval_strategy=\"epoch\", # report metric at end of each epoch\n",
    "    learning_rate=trainer_config[\"LR\"], # 5e-5 by default\n",
    ")"
   ]
  },
  {
   "cell_type": "code",
   "execution_count": 19,
   "id": "10efe3c0-301d-4eb3-844f-928484fbbb8d",
   "metadata": {},
   "outputs": [],
   "source": [
    "data_collator = DataCollatorCTCWithPadding(\n",
    "    processor=feature_extractor,\n",
    "    padding=True\n",
    ")"
   ]
  },
  {
   "cell_type": "code",
   "execution_count": 20,
   "id": "d7888aae-344f-48c7-a4ad-cf4850de02f0",
   "metadata": {},
   "outputs": [],
   "source": [
    "trainer = Trainer(\n",
    "    model=model,\n",
    "    args=training_args,\n",
    "    data_collator=data_collator,\n",
    "    train_dataset=ds[\"train\"],\n",
    "    eval_dataset=ds[\"val\"],\n",
    "    compute_metrics=compute_metrics,\n",
    ")"
   ]
  },
  {
   "cell_type": "code",
   "execution_count": 21,
   "id": "0922648c-5417-4dd2-9a0d-7f61879bba1e",
   "metadata": {},
   "outputs": [
    {
     "data": {
      "text/html": [
       "\n",
       "    <div>\n",
       "      \n",
       "      <progress value='168' max='168' style='width:300px; height:20px; vertical-align: middle;'></progress>\n",
       "      [168/168 2:04:52, Epoch 2/3]\n",
       "    </div>\n",
       "    <table border=\"1\" class=\"dataframe\">\n",
       "  <thead>\n",
       " <tr style=\"text-align: left;\">\n",
       "      <th>Epoch</th>\n",
       "      <th>Training Loss</th>\n",
       "      <th>Validation Loss</th>\n",
       "      <th>Accuracy</th>\n",
       "    </tr>\n",
       "  </thead>\n",
       "  <tbody>\n",
       "    <tr>\n",
       "      <td>0</td>\n",
       "      <td>1.366500</td>\n",
       "      <td>1.360602</td>\n",
       "      <td>0.340000</td>\n",
       "    </tr>\n",
       "    <tr>\n",
       "      <td>1</td>\n",
       "      <td>1.347500</td>\n",
       "      <td>1.338306</td>\n",
       "      <td>0.355000</td>\n",
       "    </tr>\n",
       "    <tr>\n",
       "      <td>2</td>\n",
       "      <td>1.301100</td>\n",
       "      <td>1.334396</td>\n",
       "      <td>0.355000</td>\n",
       "    </tr>\n",
       "  </tbody>\n",
       "</table><p>"
      ],
      "text/plain": [
       "<IPython.core.display.HTML object>"
      ]
     },
     "metadata": {},
     "output_type": "display_data"
    },
    {
     "data": {
      "text/plain": [
       "TrainOutput(global_step=168, training_loss=1.3484024831226893, metrics={'train_runtime': 7497.4934, 'train_samples_per_second': 0.72, 'train_steps_per_second': 0.022, 'total_flos': 3.9616063537933824e+17, 'train_loss': 1.3484024831226893, 'epoch': 2.986666666666667})"
      ]
     },
     "execution_count": 21,
     "metadata": {},
     "output_type": "execute_result"
    }
   ],
   "source": [
    "trainer.train()"
   ]
  },
  {
   "cell_type": "markdown",
   "id": "47d6aa4a-251f-462c-904b-73793b54b142",
   "metadata": {},
   "source": [
    "## 5. Тестирование"
   ]
  },
  {
   "cell_type": "code",
   "execution_count": 22,
   "id": "86862b7b-8f13-4c48-9f6d-330c811cdaa9",
   "metadata": {},
   "outputs": [
    {
     "data": {
      "text/html": [],
      "text/plain": [
       "<IPython.core.display.HTML object>"
      ]
     },
     "metadata": {},
     "output_type": "display_data"
    },
    {
     "name": "stdout",
     "output_type": "stream",
     "text": [
      "{'test_loss': 1.3115416765213013, 'test_accuracy': 0.388, 'test_runtime': 791.2938, 'test_samples_per_second': 2.528, 'test_steps_per_second': 0.316}\n"
     ]
    }
   ],
   "source": [
    "test_results = trainer.predict(ds[\"test\"])\n",
    "print(test_results.metrics)"
   ]
  },
  {
   "cell_type": "code",
   "execution_count": 23,
   "id": "1ff218ea-7b6b-44f9-a556-4f79cd7a457d",
   "metadata": {},
   "outputs": [],
   "source": [
    "trainer.save_model(trainer_config[\"MODEL_DIR\"])"
   ]
  }
 ],
 "metadata": {
  "kernelspec": {
   "display_name": "Python 3 (ipykernel)",
   "language": "python",
   "name": "python3"
  },
  "language_info": {
   "codemirror_mode": {
    "name": "ipython",
    "version": 3
   },
   "file_extension": ".py",
   "mimetype": "text/x-python",
   "name": "python",
   "nbconvert_exporter": "python",
   "pygments_lexer": "ipython3",
   "version": "3.11.9"
  }
 },
 "nbformat": 4,
 "nbformat_minor": 5
}
