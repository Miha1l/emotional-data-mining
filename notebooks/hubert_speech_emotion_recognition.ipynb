{
 "cells": [
  {
   "cell_type": "code",
   "execution_count": 1,
   "id": "7ed19953-66f4-4110-aa0a-b8e2d25d93e5",
   "metadata": {},
   "outputs": [],
   "source": [
    "from transformers import HubertForSequenceClassification, Wav2Vec2FeatureExtractor\n",
    "import torchaudio\n",
    "import torch\n",
    "import pandas as pd"
   ]
  },
  {
   "cell_type": "code",
   "execution_count": 2,
   "id": "c48f9b9d-e075-40f0-912e-1ac4c20a401c",
   "metadata": {},
   "outputs": [
    {
     "name": "stderr",
     "output_type": "stream",
     "text": [
      "Some weights of the model checkpoint at xbgoose/hubert-speech-emotion-recognition-russian-dusha-finetuned were not used when initializing HubertForSequenceClassification: ['hubert.encoder.pos_conv_embed.conv.weight_g', 'hubert.encoder.pos_conv_embed.conv.weight_v']\n",
      "- This IS expected if you are initializing HubertForSequenceClassification from the checkpoint of a model trained on another task or with another architecture (e.g. initializing a BertForSequenceClassification model from a BertForPreTraining model).\n",
      "- This IS NOT expected if you are initializing HubertForSequenceClassification from the checkpoint of a model that you expect to be exactly identical (initializing a BertForSequenceClassification model from a BertForSequenceClassification model).\n",
      "Some weights of HubertForSequenceClassification were not initialized from the model checkpoint at xbgoose/hubert-speech-emotion-recognition-russian-dusha-finetuned and are newly initialized: ['hubert.encoder.pos_conv_embed.conv.parametrizations.weight.original0', 'hubert.encoder.pos_conv_embed.conv.parametrizations.weight.original1']\n",
      "You should probably TRAIN this model on a down-stream task to be able to use it for predictions and inference.\n"
     ]
    }
   ],
   "source": [
    "feature_extractor = Wav2Vec2FeatureExtractor.from_pretrained(\"facebook/hubert-large-ls960-ft\")\n",
    "model = HubertForSequenceClassification.from_pretrained(\"xbgoose/hubert-speech-emotion-recognition-russian-dusha-finetuned\")\n",
    "num2emotion = {0: 'neutral', 1: 'angry', 2: 'positive', 3: 'sad', 4: 'other'}"
   ]
  },
  {
   "cell_type": "code",
   "execution_count": 5,
   "id": "ff15d0c0-f04c-4fed-aa07-b803def3e009",
   "metadata": {},
   "outputs": [
    {
     "name": "stdout",
     "output_type": "stream",
     "text": [
      "Количество записей: 17217\n",
      "Колличество корректно определенных эмоций: 12377\n",
      "Точность: 0.7188824998547947\n"
     ]
    }
   ],
   "source": [
    "dataset_filepath = \"../data/crowd/crowd_test/raw_crowd_test.csv\"\n",
    "df = pd.read_csv(dataset_filepath)\n",
    "count_correct_predicts = 0\n",
    "\n",
    "for _, row in df.iterrows():\n",
    "    filepath = \"../data/crowd/crowd_test/\" + row[\"audio_path\"]\n",
    "\n",
    "    waveform, sample_rate = torchaudio.load(filepath, normalize=True)\n",
    "    transform = torchaudio.transforms.Resample(sample_rate, 16000)\n",
    "    waveform = transform(waveform)\n",
    "\n",
    "    inputs = feature_extractor(\n",
    "        waveform,\n",
    "        sampling_rate=feature_extractor.sampling_rate,\n",
    "        return_tensors=\"pt\",\n",
    "        padding=True,\n",
    "        max_length=16000 * 10,\n",
    "        truncation=True\n",
    "    )\n",
    "    \n",
    "    logits = model(inputs['input_values'][0]).logits\n",
    "    predictions = torch.argmax(logits, dim=-1)\n",
    "    predicted_emotion = num2emotion[predictions.numpy()[0]]\n",
    "    if predicted_emotion == row[\"speaker_emo\"]:\n",
    "        count_correct_predicts += 1\n",
    "\n",
    "print(f\"Количество записей: {len(df)}\")\n",
    "print(f\"Колличество корректно определенных эмоций: {count_correct_predicts}\")\n",
    "print(f\"Точность: {count_correct_predicts / len(df)}\")"
   ]
  },
  {
   "cell_type": "code",
   "execution_count": null,
   "id": "2515fc72-1ea6-4dba-be8c-be083386f0bf",
   "metadata": {},
   "outputs": [],
   "source": []
  }
 ],
 "metadata": {
  "kernelspec": {
   "display_name": "Python 3 (ipykernel)",
   "language": "python",
   "name": "python3"
  },
  "language_info": {
   "codemirror_mode": {
    "name": "ipython",
    "version": 3
   },
   "file_extension": ".py",
   "mimetype": "text/x-python",
   "name": "python",
   "nbconvert_exporter": "python",
   "pygments_lexer": "ipython3",
   "version": "3.11.9"
  }
 },
 "nbformat": 4,
 "nbformat_minor": 5
}
